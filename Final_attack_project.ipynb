{
 "cells": [
  {
   "cell_type": "code",
   "execution_count": 1,
   "id": "668df77b-d681-4a03-b8e5-64e34e2224ec",
   "metadata": {},
   "outputs": [],
   "source": [
    "import pandas as pd\n",
    "from sklearn.model_selection import train_test_split\n",
    "from sklearn.preprocessing import StandardScaler, OneHotEncoder\n",
    "from sklearn.compose import ColumnTransformer\n",
    "from sklearn.pipeline import Pipeline\n",
    "from sklearn.ensemble import RandomForestClassifier\n",
    "from sklearn.metrics import classification_report, confusion_matrix, accuracy_score"
   ]
  },
  {
   "cell_type": "code",
   "execution_count": 2,
   "id": "21ab5464-0b41-4d5e-956c-999184ad8952",
   "metadata": {},
   "outputs": [],
   "source": [
    "train_data = pd.read_csv('Train_Data.csv')"
   ]
  },
  {
   "cell_type": "code",
   "execution_count": 3,
   "id": "46356b40-f623-4317-93a6-91422d774428",
   "metadata": {},
   "outputs": [],
   "source": [
    "X = train_data.drop('attack', axis=1)\n",
    "y = train_data['attack']"
   ]
  },
  {
   "cell_type": "code",
   "execution_count": 4,
   "id": "cef17a22-d846-472e-9971-0aabf4200d3a",
   "metadata": {},
   "outputs": [],
   "source": [
    "categorical_cols = ['protocoltype', 'service', 'flag']\n",
    "numerical_cols = [col for col in X.columns if col not in categorical_cols]"
   ]
  },
  {
   "cell_type": "code",
   "execution_count": 5,
   "id": "f75b0741-7cb3-4f85-89fb-1a952c9ae592",
   "metadata": {},
   "outputs": [],
   "source": [
    "X_train, X_val, y_train, y_val = train_test_split(X, y, test_size=0.2, random_state=42)"
   ]
  },
  {
   "cell_type": "code",
   "execution_count": 6,
   "id": "eb46cef7-e235-4bd0-86cd-3a1d924a87fd",
   "metadata": {},
   "outputs": [],
   "source": [
    "preprocessor = ColumnTransformer(\n",
    "    transformers=[\n",
    "        ('num', StandardScaler(), numerical_cols),\n",
    "        ('cat', OneHotEncoder(), categorical_cols)\n",
    "    ])"
   ]
  },
  {
   "cell_type": "code",
   "execution_count": 7,
   "id": "5b2488c4-b7c4-4cfa-bd1c-e05c7490f7e6",
   "metadata": {},
   "outputs": [],
   "source": [
    "model_pipeline = Pipeline(steps=[\n",
    "    ('preprocessor', preprocessor),\n",
    "    ('classifier', RandomForestClassifier(n_estimators=100, random_state=42))\n",
    "])"
   ]
  },
  {
   "cell_type": "code",
   "execution_count": 8,
   "id": "b24931ec-fe69-4388-8719-b19b5faa34aa",
   "metadata": {},
   "outputs": [
    {
     "data": {
      "text/html": [
       "<style>#sk-container-id-1 {color: black;background-color: white;}#sk-container-id-1 pre{padding: 0;}#sk-container-id-1 div.sk-toggleable {background-color: white;}#sk-container-id-1 label.sk-toggleable__label {cursor: pointer;display: block;width: 100%;margin-bottom: 0;padding: 0.3em;box-sizing: border-box;text-align: center;}#sk-container-id-1 label.sk-toggleable__label-arrow:before {content: \"▸\";float: left;margin-right: 0.25em;color: #696969;}#sk-container-id-1 label.sk-toggleable__label-arrow:hover:before {color: black;}#sk-container-id-1 div.sk-estimator:hover label.sk-toggleable__label-arrow:before {color: black;}#sk-container-id-1 div.sk-toggleable__content {max-height: 0;max-width: 0;overflow: hidden;text-align: left;background-color: #f0f8ff;}#sk-container-id-1 div.sk-toggleable__content pre {margin: 0.2em;color: black;border-radius: 0.25em;background-color: #f0f8ff;}#sk-container-id-1 input.sk-toggleable__control:checked~div.sk-toggleable__content {max-height: 200px;max-width: 100%;overflow: auto;}#sk-container-id-1 input.sk-toggleable__control:checked~label.sk-toggleable__label-arrow:before {content: \"▾\";}#sk-container-id-1 div.sk-estimator input.sk-toggleable__control:checked~label.sk-toggleable__label {background-color: #d4ebff;}#sk-container-id-1 div.sk-label input.sk-toggleable__control:checked~label.sk-toggleable__label {background-color: #d4ebff;}#sk-container-id-1 input.sk-hidden--visually {border: 0;clip: rect(1px 1px 1px 1px);clip: rect(1px, 1px, 1px, 1px);height: 1px;margin: -1px;overflow: hidden;padding: 0;position: absolute;width: 1px;}#sk-container-id-1 div.sk-estimator {font-family: monospace;background-color: #f0f8ff;border: 1px dotted black;border-radius: 0.25em;box-sizing: border-box;margin-bottom: 0.5em;}#sk-container-id-1 div.sk-estimator:hover {background-color: #d4ebff;}#sk-container-id-1 div.sk-parallel-item::after {content: \"\";width: 100%;border-bottom: 1px solid gray;flex-grow: 1;}#sk-container-id-1 div.sk-label:hover label.sk-toggleable__label {background-color: #d4ebff;}#sk-container-id-1 div.sk-serial::before {content: \"\";position: absolute;border-left: 1px solid gray;box-sizing: border-box;top: 0;bottom: 0;left: 50%;z-index: 0;}#sk-container-id-1 div.sk-serial {display: flex;flex-direction: column;align-items: center;background-color: white;padding-right: 0.2em;padding-left: 0.2em;position: relative;}#sk-container-id-1 div.sk-item {position: relative;z-index: 1;}#sk-container-id-1 div.sk-parallel {display: flex;align-items: stretch;justify-content: center;background-color: white;position: relative;}#sk-container-id-1 div.sk-item::before, #sk-container-id-1 div.sk-parallel-item::before {content: \"\";position: absolute;border-left: 1px solid gray;box-sizing: border-box;top: 0;bottom: 0;left: 50%;z-index: -1;}#sk-container-id-1 div.sk-parallel-item {display: flex;flex-direction: column;z-index: 1;position: relative;background-color: white;}#sk-container-id-1 div.sk-parallel-item:first-child::after {align-self: flex-end;width: 50%;}#sk-container-id-1 div.sk-parallel-item:last-child::after {align-self: flex-start;width: 50%;}#sk-container-id-1 div.sk-parallel-item:only-child::after {width: 0;}#sk-container-id-1 div.sk-dashed-wrapped {border: 1px dashed gray;margin: 0 0.4em 0.5em 0.4em;box-sizing: border-box;padding-bottom: 0.4em;background-color: white;}#sk-container-id-1 div.sk-label label {font-family: monospace;font-weight: bold;display: inline-block;line-height: 1.2em;}#sk-container-id-1 div.sk-label-container {text-align: center;}#sk-container-id-1 div.sk-container {/* jupyter's `normalize.less` sets `[hidden] { display: none; }` but bootstrap.min.css set `[hidden] { display: none !important; }` so we also need the `!important` here to be able to override the default hidden behavior on the sphinx rendered scikit-learn.org. See: https://github.com/scikit-learn/scikit-learn/issues/21755 */display: inline-block !important;position: relative;}#sk-container-id-1 div.sk-text-repr-fallback {display: none;}</style><div id=\"sk-container-id-1\" class=\"sk-top-container\"><div class=\"sk-text-repr-fallback\"><pre>Pipeline(steps=[(&#x27;preprocessor&#x27;,\n",
       "                 ColumnTransformer(transformers=[(&#x27;num&#x27;, StandardScaler(),\n",
       "                                                  [&#x27;duration&#x27;, &#x27;srcbytes&#x27;,\n",
       "                                                   &#x27;dstbytes&#x27;, &#x27;land&#x27;,\n",
       "                                                   &#x27;wrongfragment&#x27;, &#x27;urgent&#x27;,\n",
       "                                                   &#x27;hot&#x27;, &#x27;numfailedlogins&#x27;,\n",
       "                                                   &#x27;loggedin&#x27;, &#x27;numcompromised&#x27;,\n",
       "                                                   &#x27;rootshell&#x27;, &#x27;suattempted&#x27;,\n",
       "                                                   &#x27;numroot&#x27;,\n",
       "                                                   &#x27;numfilecreations&#x27;,\n",
       "                                                   &#x27;numshells&#x27;,\n",
       "                                                   &#x27;numaccessfiles&#x27;,\n",
       "                                                   &#x27;numoutboundcmds&#x27;,\n",
       "                                                   &#x27;ishostlogin&#x27;,\n",
       "                                                   &#x27;isguestlogin&#x27;, &#x27;count&#x27;,\n",
       "                                                   &#x27;srvcount&#x27;, &#x27;serrorrate&#x27;,\n",
       "                                                   &#x27;srvserrorrate&#x27;,\n",
       "                                                   &#x27;rerrorrate&#x27;,\n",
       "                                                   &#x27;srvrerrorrate&#x27;,\n",
       "                                                   &#x27;samesrvrate&#x27;, &#x27;diffsrvrate&#x27;,\n",
       "                                                   &#x27;srvdiffhostrate&#x27;,\n",
       "                                                   &#x27;dsthostcount&#x27;,\n",
       "                                                   &#x27;dsthostsrvcount&#x27;, ...]),\n",
       "                                                 (&#x27;cat&#x27;, OneHotEncoder(),\n",
       "                                                  [&#x27;protocoltype&#x27;, &#x27;service&#x27;,\n",
       "                                                   &#x27;flag&#x27;])])),\n",
       "                (&#x27;classifier&#x27;, RandomForestClassifier(random_state=42))])</pre><b>In a Jupyter environment, please rerun this cell to show the HTML representation or trust the notebook. <br />On GitHub, the HTML representation is unable to render, please try loading this page with nbviewer.org.</b></div><div class=\"sk-container\" hidden><div class=\"sk-item sk-dashed-wrapped\"><div class=\"sk-label-container\"><div class=\"sk-label sk-toggleable\"><input class=\"sk-toggleable__control sk-hidden--visually\" id=\"sk-estimator-id-1\" type=\"checkbox\" ><label for=\"sk-estimator-id-1\" class=\"sk-toggleable__label sk-toggleable__label-arrow\">Pipeline</label><div class=\"sk-toggleable__content\"><pre>Pipeline(steps=[(&#x27;preprocessor&#x27;,\n",
       "                 ColumnTransformer(transformers=[(&#x27;num&#x27;, StandardScaler(),\n",
       "                                                  [&#x27;duration&#x27;, &#x27;srcbytes&#x27;,\n",
       "                                                   &#x27;dstbytes&#x27;, &#x27;land&#x27;,\n",
       "                                                   &#x27;wrongfragment&#x27;, &#x27;urgent&#x27;,\n",
       "                                                   &#x27;hot&#x27;, &#x27;numfailedlogins&#x27;,\n",
       "                                                   &#x27;loggedin&#x27;, &#x27;numcompromised&#x27;,\n",
       "                                                   &#x27;rootshell&#x27;, &#x27;suattempted&#x27;,\n",
       "                                                   &#x27;numroot&#x27;,\n",
       "                                                   &#x27;numfilecreations&#x27;,\n",
       "                                                   &#x27;numshells&#x27;,\n",
       "                                                   &#x27;numaccessfiles&#x27;,\n",
       "                                                   &#x27;numoutboundcmds&#x27;,\n",
       "                                                   &#x27;ishostlogin&#x27;,\n",
       "                                                   &#x27;isguestlogin&#x27;, &#x27;count&#x27;,\n",
       "                                                   &#x27;srvcount&#x27;, &#x27;serrorrate&#x27;,\n",
       "                                                   &#x27;srvserrorrate&#x27;,\n",
       "                                                   &#x27;rerrorrate&#x27;,\n",
       "                                                   &#x27;srvrerrorrate&#x27;,\n",
       "                                                   &#x27;samesrvrate&#x27;, &#x27;diffsrvrate&#x27;,\n",
       "                                                   &#x27;srvdiffhostrate&#x27;,\n",
       "                                                   &#x27;dsthostcount&#x27;,\n",
       "                                                   &#x27;dsthostsrvcount&#x27;, ...]),\n",
       "                                                 (&#x27;cat&#x27;, OneHotEncoder(),\n",
       "                                                  [&#x27;protocoltype&#x27;, &#x27;service&#x27;,\n",
       "                                                   &#x27;flag&#x27;])])),\n",
       "                (&#x27;classifier&#x27;, RandomForestClassifier(random_state=42))])</pre></div></div></div><div class=\"sk-serial\"><div class=\"sk-item sk-dashed-wrapped\"><div class=\"sk-label-container\"><div class=\"sk-label sk-toggleable\"><input class=\"sk-toggleable__control sk-hidden--visually\" id=\"sk-estimator-id-2\" type=\"checkbox\" ><label for=\"sk-estimator-id-2\" class=\"sk-toggleable__label sk-toggleable__label-arrow\">preprocessor: ColumnTransformer</label><div class=\"sk-toggleable__content\"><pre>ColumnTransformer(transformers=[(&#x27;num&#x27;, StandardScaler(),\n",
       "                                 [&#x27;duration&#x27;, &#x27;srcbytes&#x27;, &#x27;dstbytes&#x27;, &#x27;land&#x27;,\n",
       "                                  &#x27;wrongfragment&#x27;, &#x27;urgent&#x27;, &#x27;hot&#x27;,\n",
       "                                  &#x27;numfailedlogins&#x27;, &#x27;loggedin&#x27;,\n",
       "                                  &#x27;numcompromised&#x27;, &#x27;rootshell&#x27;, &#x27;suattempted&#x27;,\n",
       "                                  &#x27;numroot&#x27;, &#x27;numfilecreations&#x27;, &#x27;numshells&#x27;,\n",
       "                                  &#x27;numaccessfiles&#x27;, &#x27;numoutboundcmds&#x27;,\n",
       "                                  &#x27;ishostlogin&#x27;, &#x27;isguestlogin&#x27;, &#x27;count&#x27;,\n",
       "                                  &#x27;srvcount&#x27;, &#x27;serrorrate&#x27;, &#x27;srvserrorrate&#x27;,\n",
       "                                  &#x27;rerrorrate&#x27;, &#x27;srvrerrorrate&#x27;, &#x27;samesrvrate&#x27;,\n",
       "                                  &#x27;diffsrvrate&#x27;, &#x27;srvdiffhostrate&#x27;,\n",
       "                                  &#x27;dsthostcount&#x27;, &#x27;dsthostsrvcount&#x27;, ...]),\n",
       "                                (&#x27;cat&#x27;, OneHotEncoder(),\n",
       "                                 [&#x27;protocoltype&#x27;, &#x27;service&#x27;, &#x27;flag&#x27;])])</pre></div></div></div><div class=\"sk-parallel\"><div class=\"sk-parallel-item\"><div class=\"sk-item\"><div class=\"sk-label-container\"><div class=\"sk-label sk-toggleable\"><input class=\"sk-toggleable__control sk-hidden--visually\" id=\"sk-estimator-id-3\" type=\"checkbox\" ><label for=\"sk-estimator-id-3\" class=\"sk-toggleable__label sk-toggleable__label-arrow\">num</label><div class=\"sk-toggleable__content\"><pre>[&#x27;duration&#x27;, &#x27;srcbytes&#x27;, &#x27;dstbytes&#x27;, &#x27;land&#x27;, &#x27;wrongfragment&#x27;, &#x27;urgent&#x27;, &#x27;hot&#x27;, &#x27;numfailedlogins&#x27;, &#x27;loggedin&#x27;, &#x27;numcompromised&#x27;, &#x27;rootshell&#x27;, &#x27;suattempted&#x27;, &#x27;numroot&#x27;, &#x27;numfilecreations&#x27;, &#x27;numshells&#x27;, &#x27;numaccessfiles&#x27;, &#x27;numoutboundcmds&#x27;, &#x27;ishostlogin&#x27;, &#x27;isguestlogin&#x27;, &#x27;count&#x27;, &#x27;srvcount&#x27;, &#x27;serrorrate&#x27;, &#x27;srvserrorrate&#x27;, &#x27;rerrorrate&#x27;, &#x27;srvrerrorrate&#x27;, &#x27;samesrvrate&#x27;, &#x27;diffsrvrate&#x27;, &#x27;srvdiffhostrate&#x27;, &#x27;dsthostcount&#x27;, &#x27;dsthostsrvcount&#x27;, &#x27;dsthostsamesrvrate&#x27;, &#x27;dsthostdiffsrvrate&#x27;, &#x27;dsthostsamesrcportrate&#x27;, &#x27;dsthostsrvdiffhostrate&#x27;, &#x27;dsthostserrorrate&#x27;, &#x27;dsthostsrvserrorrate&#x27;, &#x27;dsthostrerrorrate&#x27;, &#x27;dsthostsrvrerrorrate&#x27;, &#x27;lastflag&#x27;]</pre></div></div></div><div class=\"sk-serial\"><div class=\"sk-item\"><div class=\"sk-estimator sk-toggleable\"><input class=\"sk-toggleable__control sk-hidden--visually\" id=\"sk-estimator-id-4\" type=\"checkbox\" ><label for=\"sk-estimator-id-4\" class=\"sk-toggleable__label sk-toggleable__label-arrow\">StandardScaler</label><div class=\"sk-toggleable__content\"><pre>StandardScaler()</pre></div></div></div></div></div></div><div class=\"sk-parallel-item\"><div class=\"sk-item\"><div class=\"sk-label-container\"><div class=\"sk-label sk-toggleable\"><input class=\"sk-toggleable__control sk-hidden--visually\" id=\"sk-estimator-id-5\" type=\"checkbox\" ><label for=\"sk-estimator-id-5\" class=\"sk-toggleable__label sk-toggleable__label-arrow\">cat</label><div class=\"sk-toggleable__content\"><pre>[&#x27;protocoltype&#x27;, &#x27;service&#x27;, &#x27;flag&#x27;]</pre></div></div></div><div class=\"sk-serial\"><div class=\"sk-item\"><div class=\"sk-estimator sk-toggleable\"><input class=\"sk-toggleable__control sk-hidden--visually\" id=\"sk-estimator-id-6\" type=\"checkbox\" ><label for=\"sk-estimator-id-6\" class=\"sk-toggleable__label sk-toggleable__label-arrow\">OneHotEncoder</label><div class=\"sk-toggleable__content\"><pre>OneHotEncoder()</pre></div></div></div></div></div></div></div></div><div class=\"sk-item\"><div class=\"sk-estimator sk-toggleable\"><input class=\"sk-toggleable__control sk-hidden--visually\" id=\"sk-estimator-id-7\" type=\"checkbox\" ><label for=\"sk-estimator-id-7\" class=\"sk-toggleable__label sk-toggleable__label-arrow\">RandomForestClassifier</label><div class=\"sk-toggleable__content\"><pre>RandomForestClassifier(random_state=42)</pre></div></div></div></div></div></div></div>"
      ],
      "text/plain": [
       "Pipeline(steps=[('preprocessor',\n",
       "                 ColumnTransformer(transformers=[('num', StandardScaler(),\n",
       "                                                  ['duration', 'srcbytes',\n",
       "                                                   'dstbytes', 'land',\n",
       "                                                   'wrongfragment', 'urgent',\n",
       "                                                   'hot', 'numfailedlogins',\n",
       "                                                   'loggedin', 'numcompromised',\n",
       "                                                   'rootshell', 'suattempted',\n",
       "                                                   'numroot',\n",
       "                                                   'numfilecreations',\n",
       "                                                   'numshells',\n",
       "                                                   'numaccessfiles',\n",
       "                                                   'numoutboundcmds',\n",
       "                                                   'ishostlogin',\n",
       "                                                   'isguestlogin', 'count',\n",
       "                                                   'srvcount', 'serrorrate',\n",
       "                                                   'srvserrorrate',\n",
       "                                                   'rerrorrate',\n",
       "                                                   'srvrerrorrate',\n",
       "                                                   'samesrvrate', 'diffsrvrate',\n",
       "                                                   'srvdiffhostrate',\n",
       "                                                   'dsthostcount',\n",
       "                                                   'dsthostsrvcount', ...]),\n",
       "                                                 ('cat', OneHotEncoder(),\n",
       "                                                  ['protocoltype', 'service',\n",
       "                                                   'flag'])])),\n",
       "                ('classifier', RandomForestClassifier(random_state=42))])"
      ]
     },
     "execution_count": 8,
     "metadata": {},
     "output_type": "execute_result"
    }
   ],
   "source": [
    "model_pipeline.fit(X_train, y_train)"
   ]
  },
  {
   "cell_type": "code",
   "execution_count": 9,
   "id": "7c102141-c10f-4558-a5df-337cd4e10a23",
   "metadata": {},
   "outputs": [],
   "source": [
    "y_pred = model_pipeline.predict(X_val)"
   ]
  },
  {
   "cell_type": "code",
   "execution_count": 10,
   "id": "0bbd4c44-563c-499b-9b07-dc0cc600732a",
   "metadata": {},
   "outputs": [
    {
     "name": "stdout",
     "output_type": "stream",
     "text": [
      "Accuracy: 1.0\n",
      "Confusion Matrix:\n",
      "[[10762     0]\n",
      " [    0  6607]]\n",
      "Classification Report:\n",
      "              precision    recall  f1-score   support\n",
      "\n",
      "           0       1.00      1.00      1.00     10762\n",
      "           1       1.00      1.00      1.00      6607\n",
      "\n",
      "    accuracy                           1.00     17369\n",
      "   macro avg       1.00      1.00      1.00     17369\n",
      "weighted avg       1.00      1.00      1.00     17369\n",
      "\n"
     ]
    }
   ],
   "source": [
    "accuracy = accuracy_score(y_val, y_pred)\n",
    "conf_matrix = confusion_matrix(y_val, y_pred)\n",
    "class_report = classification_report(y_val, y_pred)\n",
    "\n",
    "print(f'Accuracy: {accuracy}')\n",
    "print(f'Confusion Matrix:\\n{conf_matrix}')\n",
    "print(f'Classification Report:\\n{class_report}')"
   ]
  },
  {
   "cell_type": "code",
   "execution_count": 11,
   "id": "b06f23b5-cd61-48d7-a495-f34bc4164be2",
   "metadata": {},
   "outputs": [],
   "source": [
    "test_data = pd.read_csv('Test_Data.csv')"
   ]
  },
  {
   "cell_type": "code",
   "execution_count": 12,
   "id": "e9e81a0b-6bc8-476c-beac-ef4f36fe311d",
   "metadata": {},
   "outputs": [],
   "source": [
    "predictions = model_pipeline.predict(test_data)"
   ]
  },
  {
   "cell_type": "code",
   "execution_count": 13,
   "id": "c7879167-213a-4728-8283-76eb0b3aa9ba",
   "metadata": {},
   "outputs": [],
   "source": [
    "submission_format = pd.read_csv('Sample_Submission.csv')"
   ]
  },
  {
   "cell_type": "code",
   "execution_count": 17,
   "id": "be807694-dd3a-4927-9cee-170898017f5a",
   "metadata": {},
   "outputs": [],
   "source": [
    "predictionsdata = pd.DataFrame({\n",
    "    'attack': predictions\n",
    "})"
   ]
  },
  {
   "cell_type": "code",
   "execution_count": 19,
   "id": "e838948f-e5ad-41eb-89da-7fe99d8ed935",
   "metadata": {},
   "outputs": [],
   "source": [
    "predictionsdata.to_csv('prediction_attack.csv', index=False)"
   ]
  },
  {
   "cell_type": "code",
   "execution_count": null,
   "id": "73654179-ebb1-46d2-9243-18901b3d248f",
   "metadata": {},
   "outputs": [],
   "source": []
  }
 ],
 "metadata": {
  "kernelspec": {
   "display_name": "Python 3 (ipykernel)",
   "language": "python",
   "name": "python3"
  },
  "language_info": {
   "codemirror_mode": {
    "name": "ipython",
    "version": 3
   },
   "file_extension": ".py",
   "mimetype": "text/x-python",
   "name": "python",
   "nbconvert_exporter": "python",
   "pygments_lexer": "ipython3",
   "version": "3.11.7"
  }
 },
 "nbformat": 4,
 "nbformat_minor": 5
}
